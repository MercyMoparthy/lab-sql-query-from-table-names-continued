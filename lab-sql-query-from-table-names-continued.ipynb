{
 "cells": [
  {
   "cell_type": "markdown",
   "id": "7d930c89-4954-4e39-be5a-601c1dd89512",
   "metadata": {
    "id": "7d930c89-4954-4e39-be5a-601c1dd89512"
   },
   "source": [
    "# SQL query from table names - Continued"
   ]
  },
  {
   "cell_type": "code",
   "execution_count": null,
   "id": "a03f026a",
   "metadata": {
    "id": "a03f026a"
   },
   "outputs": [],
   "source": [
    "from openai import OpenAI\n",
    "import os\n",
    "from dotenv import load_dotenv, find_dotenv\n",
    "_ = load_dotenv(find_dotenv())\n",
    "\n",
    "OPENAI_API_KEY  = os.getenv('OPENAI_API_KEY')"
   ]
  },
  {
   "cell_type": "markdown",
   "id": "53a05b80-88fd-42b2-ba89-763074ae74e9",
   "metadata": {
    "id": "53a05b80-88fd-42b2-ba89-763074ae74e9"
   },
   "source": [
    "## The old Prompt"
   ]
  },
  {
   "cell_type": "code",
   "execution_count": 10,
   "id": "922f8d24",
   "metadata": {
    "id": "922f8d24"
   },
   "outputs": [],
   "source": [
    "#The old prompt\n",
    "old_context = [ {'role':'system', 'content':\"\"\"\n",
    "you are a bot to assist in create SQL commands, all your answers should start with \\\n",
    "this is your SQL, and after that an SQL that can do what the user request. \\\n",
    "Your Database is composed by a SQL database with some tables. \\\n",
    "Try to maintain the SQL order simple.\n",
    "Put the SQL command in white letters with a black background, and just after \\\n",
    "a simple and concise text explaining how it works.\n",
    "If the user ask for something that can not be solved with an SQL Order \\\n",
    "just answer something nice and simple, maximum 10 words, asking him for something that \\\n",
    "can be solved with SQL.\n",
    "\"\"\"} ]\n",
    "\n",
    "old_context.append( {'role':'system', 'content':\"\"\"\n",
    "first table:\n",
    "{\n",
    "  \"tableName\": \"employees\",\n",
    "  \"fields\": [\n",
    "    {\n",
    "      \"nombre\": \"ID_usr\",\n",
    "      \"tipo\": \"int\"\n",
    "    },\n",
    "    {\n",
    "      \"nombre\": \"name\",\n",
    "      \"tipo\": \"varchar\"\n",
    "    }\n",
    "  ]\n",
    "}\n",
    "\"\"\"\n",
    "})\n",
    "\n",
    "old_context.append( {'role':'system', 'content':\"\"\"\n",
    "second table:\n",
    "{\n",
    "  \"tableName\": \"salary\",\n",
    "  \"fields\": [\n",
    "    {\n",
    "      \"nombre\": \"ID_usr\",\n",
    "      \"type\": \"int\"\n",
    "    },\n",
    "    {\n",
    "      \"name\": \"year\",\n",
    "      \"type\": \"date\"\n",
    "    },\n",
    "    {\n",
    "      \"name\": \"salary\",\n",
    "      \"type\": \"float\"\n",
    "    }\n",
    "  ]\n",
    "}\n",
    "\"\"\"\n",
    "})\n",
    "\n",
    "old_context.append( {'role':'system', 'content':\"\"\"\n",
    "third table:\n",
    "{\n",
    "  \"tablename\": \"studies\",\n",
    "  \"fields\": [\n",
    "    {\n",
    "      \"name\": \"ID\",\n",
    "      \"type\": \"int\"\n",
    "    },\n",
    "    {\n",
    "      \"name\": \"ID_usr\",\n",
    "      \"type\": \"int\"\n",
    "    },\n",
    "    {\n",
    "      \"name\": \"educational_level\",\n",
    "      \"type\": \"int\"\n",
    "    },\n",
    "    {\n",
    "      \"name\": \"Institution\",\n",
    "      \"type\": \"varchar\"\n",
    "    },\n",
    "    {\n",
    "      \"name\": \"Years\",\n",
    "      \"type\": \"date\"\n",
    "    },\n",
    "    {\n",
    "      \"name\": \"Speciality\",\n",
    "      \"type\": \"varchar\"\n",
    "    }\n",
    "  ]\n",
    "}\n",
    "\"\"\"\n",
    "})"
   ]
  },
  {
   "cell_type": "markdown",
   "id": "377acaae-7dd0-4d13-bc68-9e33741c231c",
   "metadata": {
    "id": "377acaae-7dd0-4d13-bc68-9e33741c231c"
   },
   "source": [
    "## New Prompt.\n",
    "We are going to improve it following the instructions of a Paper from the Ohaio University: [How to Prompt LLMs for Text-to-SQL: A Study in Zero-shot, Single-domain, and Cross-domain Settings](https://arxiv.org/abs/2305.11853). I recommend you read that paper.\n",
    "\n",
    "For each table, we will define the structure using the same syntax as in a SQL create table command, and add the sample rows of the content.\n",
    "\n",
    "Finally, at the end of the prompt, we'll include some example queries with the SQL that the model should generate. This technique is called Few-Shot Samples, in which we provide the prompt with some examples to assist it in generating the correct SQL.\n"
   ]
  },
  {
   "cell_type": "code",
   "execution_count": 3,
   "id": "5334f942",
   "metadata": {
    "id": "5334f942"
   },
   "outputs": [],
   "source": [
    "context = [{'role': 'system','content': \"\"\"\n",
    "CREATE TABLE Users (\n",
    "    user_id INT PRIMARY KEY,\n",
    "    username VARCHAR(50) NOT NULL,\n",
    "    email VARCHAR(100) UNIQUE NOT NULL,\n",
    "    created_at TIMESTAMP DEFAULT CURRENT_TIMESTAMP\n",
    ");\n",
    "\n",
    "CREATE TABLE Products (\n",
    "    product_id INT PRIMARY KEY,\n",
    "    name VARCHAR(100) NOT NULL,\n",
    "    description TEXT,\n",
    "    price DECIMAL(10, 2) NOT NULL,\n",
    "    stock INT DEFAULT 0\n",
    ");\n",
    "\n",
    "CREATE TABLE Orders (\n",
    "    order_id INT PRIMARY KEY,\n",
    "    user_id INT,\n",
    "    order_date TIMESTAMP DEFAULT CURRENT_TIMESTAMP,\n",
    "    status VARCHAR(20) DEFAULT 'Pending',\n",
    "    FOREIGN KEY (user_id) REFERENCES Users(user_id)\n",
    ");\n",
    "\n",
    "CREATE TABLE OrderItems (\n",
    "    order_item_id INT PRIMARY KEY,\n",
    "    order_id INT,\n",
    "    product_id INT,\n",
    "    quantity INT NOT NULL,\n",
    "    price DECIMAL(10, 2) NOT NULL,\n",
    "    FOREIGN KEY (order_id) REFERENCES Orders(order_id),\n",
    "    FOREIGN KEY (product_id) REFERENCES Products(product_id)\n",
    ");\n",
    "\n",
    "CREATE TABLE Reviews (\n",
    "    review_id INT PRIMARY KEY,\n",
    "    user_id INT,\n",
    "    product_id INT,\n",
    "    rating INT CHECK (rating BETWEEN 1 AND 5),\n",
    "    comment TEXT,\n",
    "    review_date TIMESTAMP DEFAULT CURRENT_TIMESTAMP,\n",
    "    FOREIGN KEY (user_id) REFERENCES Users(user_id),\n",
    "    FOREIGN KEY (product_id) REFERENCES Products(product_id)\n",
    ");\n",
    "\"\"\"\n",
    "    }\n",
    "]"
   ]
  },
  {
   "cell_type": "code",
   "execution_count": 4,
   "id": "330e69b0-3f5f-4bb2-8185-aedded2bb993",
   "metadata": {
    "id": "330e69b0-3f5f-4bb2-8185-aedded2bb993"
   },
   "outputs": [],
   "source": [
    "#FEW SHOT SAMPLES\n",
    "context.append({'role': 'system','content': \"\"\"\n",
    "-- Maintain the SQL order simple and efficient as you can, using valid SQLite.\n",
    "-- Answer the following questions for the tables provided above.\n",
    "\n",
    "-- 1. List all users who have placed at least one order.\n",
    "SELECT DISTINCT u.user_id, u.username, u.email\n",
    "FROM Users u\n",
    "JOIN Orders o ON u.user_id = o.user_id;\n",
    "\n",
    "-- 2. Get the total number of products in stock.\n",
    "SELECT SUM(stock) AS total_stock FROM Products;\n",
    "\n",
    "-- 3. Find all orders and their total item count.\n",
    "SELECT o.order_id, COUNT(oi.order_item_id) AS total_items\n",
    "FROM Orders o\n",
    "JOIN OrderItems oi ON o.order_id = oi.order_id\n",
    "GROUP BY o.order_id;\n",
    "\n",
    "-- 4. Show the average rating of each product that has received reviews.\n",
    "SELECT p.product_id, p.name, AVG(r.rating) AS avg_rating\n",
    "FROM Products p\n",
    "JOIN Reviews r ON p.product_id = r.product_id\n",
    "GROUP BY p.product_id;\n",
    "\n",
    "-- 5. List the top 3 most recently created users.\n",
    "SELECT * FROM Users\n",
    "ORDER BY created_at DESC\n",
    "LIMIT 3;\n",
    "\"\"\"\n",
    "})\n"
   ]
  },
  {
   "cell_type": "code",
   "execution_count": 5,
   "id": "b90f417a",
   "metadata": {
    "id": "b90f417a"
   },
   "outputs": [],
   "source": [
    "#Functio to call the model.\n",
    "def return_CCRMSQL(user_message, context):\n",
    "    client = OpenAI(\n",
    "    # This is the default and can be omitted\n",
    "    api_key=OPENAI_API_KEY,\n",
    ")\n",
    "\n",
    "    newcontext = context.copy()\n",
    "    newcontext.append({'role':'user', 'content':\"question: \" + user_message})\n",
    "\n",
    "    response = client.chat.completions.create(\n",
    "            model=\"gpt-3.5-turbo\",\n",
    "            messages=newcontext,\n",
    "            temperature=0,\n",
    "        )\n",
    "\n",
    "    return (response.choices[0].message.content)"
   ]
  },
  {
   "cell_type": "markdown",
   "id": "9e0a4c11-dfe1-46fe-ac2b-3ff825f9749c",
   "metadata": {
    "id": "9e0a4c11-dfe1-46fe-ac2b-3ff825f9749c"
   },
   "source": [
    "## NL2SQL Samples\n",
    "We're going to review some examples generated with the old prompt and others with the new prompt."
   ]
  },
  {
   "cell_type": "code",
   "execution_count": 6,
   "id": "59e8202c-ce34-487e-9037-c65a263423ed",
   "metadata": {
    "colab": {
     "base_uri": "https://localhost:8080/"
    },
    "id": "59e8202c-ce34-487e-9037-c65a263423ed",
    "outputId": "f7a97b9f-45d7-4f78-8979-a796c5bc42fb"
   },
   "outputs": [
    {
     "name": "stdout",
     "output_type": "stream",
     "text": [
      "This is your SQL:\n",
      "\n",
      "```sql\n",
      "-- Retrieve users who have registered in the last 7 days and order them by the registration date in descending order.\n",
      "SELECT *\n",
      "FROM Users\n",
      "WHERE created_at >= datetime('now', '-7 days')\n",
      "ORDER BY created_at DESC;\n",
      "```\n"
     ]
    }
   ],
   "source": [
    "#new\n",
    "context_user = context.copy()\n",
    "print(\"This is your SQL:\\n\")\n",
    "print(return_CCRMSQL(\"\"\"\n",
    "This is your SQL, after that an SQL that can do what the user request.\n",
    "SELECT * \n",
    "FROM Users \n",
    "WHERE created_at >= datetime('now', '-7 days') \n",
    "ORDER BY created_at DESC;\n",
    "\"\"\", context_user))"
   ]
  },
  {
   "cell_type": "code",
   "execution_count": 7,
   "id": "9c4766b1-48a9-456e-bc6c-4b6f41909aa4",
   "metadata": {
    "colab": {
     "base_uri": "https://localhost:8080/"
    },
    "id": "9c4766b1-48a9-456e-bc6c-4b6f41909aa4",
    "outputId": "029844da-5f1f-4f65-9adb-4d9c1cafacea"
   },
   "outputs": [
    {
     "name": "stdout",
     "output_type": "stream",
     "text": [
      "This is your SQL:\n",
      "```sql\n",
      "SELECT * \n",
      "FROM Users \n",
      "WHERE created_at < datetime('now', '-1 year') \n",
      "ORDER BY created_at ASC;\n",
      "```\n",
      "Explanation: This SQL query selects all records from the \"Users\" table where the \"created_at\" date is older than one year ago, ordering the results in ascending order based on the \"created_at\" column. \n",
      "\n",
      "\n"
     ]
    }
   ],
   "source": [
    "#old\n",
    "old_context_user = old_context.copy()\n",
    "#print(\"This is your SQL:\\n\")\n",
    "print(return_CCRMSQL(\"\"\"\n",
    "SELECT * \n",
    "FROM Users \n",
    "WHERE created_at < datetime('now', '-1 year') \n",
    "ORDER BY created_at ASC;\n",
    "\"\"\", old_context_user))"
   ]
  },
  {
   "cell_type": "code",
   "execution_count": 8,
   "id": "38d8d370-0524-4a28-bd54-5e5cddb08e2c",
   "metadata": {
    "colab": {
     "base_uri": "https://localhost:8080/"
    },
    "id": "38d8d370-0524-4a28-bd54-5e5cddb08e2c",
    "outputId": "2934cdec-bea0-44db-b047-33e70dcf8ae8"
   },
   "outputs": [
    {
     "name": "stdout",
     "output_type": "stream",
     "text": [
      "This is your SQL:\n",
      "\n",
      "The query you provided seems to be referencing tables and columns that are not defined in the initial schema provided. To assist you further, please provide the schema for the tables `studies`, `employees`, and `salary` along with sample data. This will help in understanding the structure of the tables and the relationships between them. Once you provide that information, I can help you formulate the query to achieve the desired result.\n"
     ]
    }
   ],
   "source": [
    "#new\n",
    "context_user = context.copy()\n",
    "print(\"This is your SQL:\\n\")\n",
    "print(return_CCRMSQL(\"\"\"\n",
    "SELECT st.Institution, AVG(sa.salary) AS avg_salary\n",
    "FROM studies st\n",
    "JOIN employees e ON st.ID_Usr = e.ID_Usr\n",
    "JOIN salary sa ON e.ID_Usr = sa.ID_Usr\n",
    "GROUP BY st.Institution\n",
    "ORDER BY avg_salary DESC\n",
    "LIMIT 1;\n",
    "\"\"\", context_user))"
   ]
  },
  {
   "cell_type": "code",
   "execution_count": 9,
   "id": "5aa318d4-dd9f-41db-8ff4-c1d87220f766",
   "metadata": {
    "colab": {
     "base_uri": "https://localhost:8080/"
    },
    "id": "5aa318d4-dd9f-41db-8ff4-c1d87220f766",
    "outputId": "605724a1-0d89-4ed9-d8ec-1aeeae6dc287"
   },
   "outputs": [
    {
     "name": "stdout",
     "output_type": "stream",
     "text": [
      "This is your SQL:\n",
      "```sql\n",
      "\n",
      "SELECT * \n",
      "FROM employees;\n",
      "```\n",
      "This SQL query selects all data from the \"employees\" table.\n"
     ]
    }
   ],
   "source": [
    "#old\n",
    "print(return_CCRMSQL(\"YOUR QUERY HERE\", old_context_user))"
   ]
  },
  {
   "cell_type": "markdown",
   "id": "0f31968e-74ad-4ae2-9537-b3d550b1be47",
   "metadata": {
    "id": "0f31968e-74ad-4ae2-9537-b3d550b1be47"
   },
   "source": [
    "# Exercise\n",
    " - Complete the prompts similar to what we did in class. \n",
    "     - Try at least 3 versions\n",
    "     - Be creative\n",
    " - Write a one page report summarizing your findings.\n",
    "     - Were there variations that didn't work well? i.e., where GPT either hallucinated or wrong.\n",
    "     - What did you learn?"
   ]
  },
  {
   "cell_type": "markdown",
   "id": "525277ed",
   "metadata": {},
   "source": [
    "## Version 1: Manual SQL Writing"
   ]
  },
  {
   "cell_type": "markdown",
   "id": "91e8098f",
   "metadata": {},
   "source": [
    "* Purpose: Execute hand-written SQL queries against sample data.\n",
    "* How it works:\n",
    "    * Uses sqlite3 to create in-memory tables (employees, salary, etc.).\n",
    "    * Executes static SQL queries using pandas.read_sql_query().\n",
    "* Use Case: For validation/testing or training purposes where the SQL is predefined.\n",
    "* Strengths: Fast and no dependency on OpenAI.\n",
    "* Limitation: No AI-powered query generation."
   ]
  },
  {
   "cell_type": "code",
   "execution_count": 11,
   "id": "40e93ed3",
   "metadata": {},
   "outputs": [],
   "source": [
    "import sqlite3\n",
    "import pandas as pd"
   ]
  },
  {
   "cell_type": "code",
   "execution_count": 12,
   "id": "08afb4d2",
   "metadata": {},
   "outputs": [],
   "source": [
    "# Create in-memory SQLite DB\n",
    "conn = sqlite3.connect(\":memory:\")\n",
    "cursor = conn.cursor()\n",
    "\n",
    "# Create tables\n",
    "cursor.execute(\"\"\"\n",
    "CREATE TABLE employees (\n",
    "    ID_usr INT PRIMARY KEY,\n",
    "    name TEXT\n",
    ");\n",
    "\"\"\")\n",
    "\n",
    "cursor.execute(\"\"\"\n",
    "CREATE TABLE salary (\n",
    "    ID_usr INT,\n",
    "    year DATE,\n",
    "    salary FLOAT,\n",
    "    FOREIGN KEY (ID_usr) REFERENCES employees(ID_usr)\n",
    ");\n",
    "\"\"\")\n",
    "\n",
    "# Insert sample data\n",
    "cursor.executemany(\"INSERT INTO employees VALUES (?, ?)\", [\n",
    "    (1, 'Alice'),\n",
    "    (2, 'Bob'),\n",
    "    (3, 'Charlie')\n",
    "])\n",
    "\n",
    "cursor.executemany(\"INSERT INTO salary VALUES (?, ?, ?)\", [\n",
    "    (1, '2023-01-01', 60000),\n",
    "    (2, '2023-01-01', 48000),\n",
    "    (3, '2023-01-01', 52000)\n",
    "])\n",
    "\n",
    "conn.commit()\n"
   ]
  },
  {
   "cell_type": "code",
   "execution_count": 13,
   "id": "5c7ade2d",
   "metadata": {},
   "outputs": [
    {
     "data": {
      "text/html": [
       "<div>\n",
       "<style scoped>\n",
       "    .dataframe tbody tr th:only-of-type {\n",
       "        vertical-align: middle;\n",
       "    }\n",
       "\n",
       "    .dataframe tbody tr th {\n",
       "        vertical-align: top;\n",
       "    }\n",
       "\n",
       "    .dataframe thead th {\n",
       "        text-align: right;\n",
       "    }\n",
       "</style>\n",
       "<table border=\"1\" class=\"dataframe\">\n",
       "  <thead>\n",
       "    <tr style=\"text-align: right;\">\n",
       "      <th></th>\n",
       "      <th>name</th>\n",
       "      <th>salary</th>\n",
       "    </tr>\n",
       "  </thead>\n",
       "  <tbody>\n",
       "    <tr>\n",
       "      <th>0</th>\n",
       "      <td>Alice</td>\n",
       "      <td>60000.0</td>\n",
       "    </tr>\n",
       "    <tr>\n",
       "      <th>1</th>\n",
       "      <td>Charlie</td>\n",
       "      <td>52000.0</td>\n",
       "    </tr>\n",
       "  </tbody>\n",
       "</table>\n",
       "</div>"
      ],
      "text/plain": [
       "      name   salary\n",
       "0    Alice  60000.0\n",
       "1  Charlie  52000.0"
      ]
     },
     "execution_count": 13,
     "metadata": {},
     "output_type": "execute_result"
    }
   ],
   "source": [
    "query = \"\"\"\n",
    "SELECT e.name, s.salary\n",
    "FROM employees e\n",
    "JOIN salary s ON e.ID_usr = s.ID_usr\n",
    "WHERE s.salary > 50000;\n",
    "\"\"\"\n",
    "\n",
    "df = pd.read_sql_query(query, conn)\n",
    "df"
   ]
  },
  {
   "cell_type": "markdown",
   "id": "b9a34dc4",
   "metadata": {},
   "source": [
    "## Version 2: Static Prompt"
   ]
  },
  {
   "cell_type": "markdown",
   "id": "dad58327",
   "metadata": {},
   "source": [
    "* Purpose: Generate SQL using a fixed natural language prompt and predefined schema context.\n",
    "* How it works:\n",
    "    * Uses the OpenAI SDK (openai>=1.0.0) with OpenAI(api_key=...).\n",
    "    * Context is defined with schema and few-shot examples.\n",
    "    * Static user prompt like “Which institution has the highest average salary?” is passed into return_CCRMSQL(prompt, context).\n",
    "* Use Case: Template-based query generation for fixed questions.\n",
    "* Strengths: Accurate SQL generation with consistent prompts.\n",
    "* Limitation: Requires code edit to change input prompt."
   ]
  },
  {
   "cell_type": "code",
   "execution_count": 18,
   "id": "abf5f499",
   "metadata": {},
   "outputs": [],
   "source": [
    "import openai"
   ]
  },
  {
   "cell_type": "code",
   "execution_count": 19,
   "id": "70149a06",
   "metadata": {},
   "outputs": [],
   "source": [
    "context = [{\n",
    "    'role': 'system',\n",
    "    'content': \"\"\"You are a helpful assistant that writes SQL queries. Use this schema:\n",
    "CREATE TABLE Users (\n",
    "    user_id INT PRIMARY KEY,\n",
    "    username VARCHAR(50),\n",
    "    email VARCHAR(100),\n",
    "    created_at TIMESTAMP\n",
    ");\n",
    "CREATE TABLE Orders (\n",
    "    order_id INT PRIMARY KEY,\n",
    "    user_id INT,\n",
    "    order_date TIMESTAMP,\n",
    "    status VARCHAR(20),\n",
    "    FOREIGN KEY (user_id) REFERENCES Users(user_id)\n",
    ");\"\"\"\n",
    "}]"
   ]
  },
  {
   "cell_type": "code",
   "execution_count": 20,
   "id": "e81a1f15",
   "metadata": {},
   "outputs": [],
   "source": [
    "context.append({\n",
    "    'role': 'user',\n",
    "    'content': \"Show all users who placed more than 2 orders.\"\n",
    "})"
   ]
  },
  {
   "cell_type": "code",
   "execution_count": 23,
   "id": "906a3ce4",
   "metadata": {},
   "outputs": [],
   "source": [
    "#Functio to call the model.\n",
    "def return_CCRMSQL(user_message, context):\n",
    "    client = OpenAI(\n",
    "    # This is the default and can be omitted\n",
    "    api_key=OPENAI_API_KEY,\n",
    ")\n",
    "\n",
    "    newcontext = context.copy()\n",
    "    newcontext.append({'role':'user', 'content':\"question: \" + user_message})\n",
    "\n",
    "    response = client.chat.completions.create(\n",
    "            model=\"gpt-3.5-turbo\",\n",
    "            messages=newcontext,\n",
    "            temperature=0,\n",
    "        )\n",
    "\n",
    "    return (response.choices[0].message.content)"
   ]
  },
  {
   "cell_type": "code",
   "execution_count": 25,
   "id": "c82dcae5",
   "metadata": {},
   "outputs": [
    {
     "name": "stdout",
     "output_type": "stream",
     "text": [
      "This is your SQL:\n",
      "\n",
      "To show all users who placed more than 2 orders, you can use the following SQL query:\n",
      "\n",
      "```sql\n",
      "SELECT u.user_id, u.username, u.email, COUNT(o.order_id) AS total_orders\n",
      "FROM Users u\n",
      "JOIN Orders o ON u.user_id = o.user_id\n",
      "GROUP BY u.user_id\n",
      "HAVING COUNT(o.order_id) > 2;\n",
      "``` \n",
      "\n",
      "This query will retrieve the user_id, username, email, and the total number of orders placed by each user. It will then filter out users who have placed more than 2 orders.\n"
     ]
    }
   ],
   "source": [
    "context_user = context.copy()\n",
    "print(\"This is your SQL:\\n\")\n",
    "print(return_CCRMSQL(\"\"\"\n",
    "This is your SQL, after that an SQL that can do what the user request.\n",
    "SELECT * \n",
    "FROM Users \n",
    "WHERE created_at >= datetime('now', '-7 days') \n",
    "ORDER BY created_at DESC;\n",
    "\"\"\", context_user))"
   ]
  },
  {
   "cell_type": "markdown",
   "id": "e74b9d52",
   "metadata": {},
   "source": [
    "## Dynamic Prompt Interface"
   ]
  },
  {
   "cell_type": "markdown",
   "id": "82fb31a3",
   "metadata": {},
   "source": [
    "* Purpose: Provide an interactive interface to enter natural language prompts dynamically.\n",
    "* How it works:\n",
    "    * Uses ipywidgets (Textarea, Button, Output) for prompt input.\n",
    "    * User types in a question (e.g., \"List top 3 products by average rating\").\n",
    "    * Button triggers return_CCRMSQL() which sends prompt to OpenAI and displays generated SQL.\n",
    "* Use Case: Real-time experimentation or end-user-friendly notebooks.\n",
    "* Strengths: No code edits needed; intuitive UX.\n",
    "* Limitation: Requires running Jupyter environment with widget support."
   ]
  },
  {
   "cell_type": "code",
   "execution_count": 26,
   "id": "64014028",
   "metadata": {},
   "outputs": [
    {
     "name": "stdout",
     "output_type": "stream",
     "text": [
      "Requirement already satisfied: ipywidgets in c:\\users\\mercy\\appdata\\local\\programs\\python\\python313\\lib\\site-packages (8.1.7)\n",
      "Requirement already satisfied: comm>=0.1.3 in c:\\users\\mercy\\appdata\\local\\programs\\python\\python313\\lib\\site-packages (from ipywidgets) (0.2.2)\n",
      "Requirement already satisfied: ipython>=6.1.0 in c:\\users\\mercy\\appdata\\local\\programs\\python\\python313\\lib\\site-packages (from ipywidgets) (9.2.0)\n",
      "Requirement already satisfied: traitlets>=4.3.1 in c:\\users\\mercy\\appdata\\local\\programs\\python\\python313\\lib\\site-packages (from ipywidgets) (5.14.3)\n",
      "Requirement already satisfied: widgetsnbextension~=4.0.14 in c:\\users\\mercy\\appdata\\local\\programs\\python\\python313\\lib\\site-packages (from ipywidgets) (4.0.14)\n",
      "Requirement already satisfied: jupyterlab_widgets~=3.0.15 in c:\\users\\mercy\\appdata\\local\\programs\\python\\python313\\lib\\site-packages (from ipywidgets) (3.0.15)\n",
      "Requirement already satisfied: colorama in c:\\users\\mercy\\appdata\\local\\programs\\python\\python313\\lib\\site-packages (from ipython>=6.1.0->ipywidgets) (0.4.6)\n",
      "Requirement already satisfied: decorator in c:\\users\\mercy\\appdata\\local\\programs\\python\\python313\\lib\\site-packages (from ipython>=6.1.0->ipywidgets) (5.2.1)\n",
      "Requirement already satisfied: ipython-pygments-lexers in c:\\users\\mercy\\appdata\\local\\programs\\python\\python313\\lib\\site-packages (from ipython>=6.1.0->ipywidgets) (1.1.1)\n",
      "Requirement already satisfied: jedi>=0.16 in c:\\users\\mercy\\appdata\\local\\programs\\python\\python313\\lib\\site-packages (from ipython>=6.1.0->ipywidgets) (0.19.2)\n",
      "Requirement already satisfied: matplotlib-inline in c:\\users\\mercy\\appdata\\local\\programs\\python\\python313\\lib\\site-packages (from ipython>=6.1.0->ipywidgets) (0.1.7)\n",
      "Requirement already satisfied: prompt_toolkit<3.1.0,>=3.0.41 in c:\\users\\mercy\\appdata\\local\\programs\\python\\python313\\lib\\site-packages (from ipython>=6.1.0->ipywidgets) (3.0.51)\n",
      "Requirement already satisfied: pygments>=2.4.0 in c:\\users\\mercy\\appdata\\local\\programs\\python\\python313\\lib\\site-packages (from ipython>=6.1.0->ipywidgets) (2.19.1)\n",
      "Requirement already satisfied: stack_data in c:\\users\\mercy\\appdata\\local\\programs\\python\\python313\\lib\\site-packages (from ipython>=6.1.0->ipywidgets) (0.6.3)\n",
      "Requirement already satisfied: wcwidth in c:\\users\\mercy\\appdata\\local\\programs\\python\\python313\\lib\\site-packages (from prompt_toolkit<3.1.0,>=3.0.41->ipython>=6.1.0->ipywidgets) (0.2.13)\n",
      "Requirement already satisfied: parso<0.9.0,>=0.8.4 in c:\\users\\mercy\\appdata\\local\\programs\\python\\python313\\lib\\site-packages (from jedi>=0.16->ipython>=6.1.0->ipywidgets) (0.8.4)\n",
      "Requirement already satisfied: executing>=1.2.0 in c:\\users\\mercy\\appdata\\local\\programs\\python\\python313\\lib\\site-packages (from stack_data->ipython>=6.1.0->ipywidgets) (2.2.0)\n",
      "Requirement already satisfied: asttokens>=2.1.0 in c:\\users\\mercy\\appdata\\local\\programs\\python\\python313\\lib\\site-packages (from stack_data->ipython>=6.1.0->ipywidgets) (3.0.0)\n",
      "Requirement already satisfied: pure-eval in c:\\users\\mercy\\appdata\\local\\programs\\python\\python313\\lib\\site-packages (from stack_data->ipython>=6.1.0->ipywidgets) (0.2.3)\n",
      "Note: you may need to restart the kernel to use updated packages.\n"
     ]
    }
   ],
   "source": [
    "%pip install ipywidgets"
   ]
  },
  {
   "cell_type": "code",
   "execution_count": 27,
   "id": "b6792334",
   "metadata": {},
   "outputs": [
    {
     "data": {
      "application/vnd.jupyter.widget-view+json": {
       "model_id": "f5ee47becd794d39ade7878ea749f821",
       "version_major": 2,
       "version_minor": 0
      },
      "text/plain": [
       "Textarea(value='', description='Prompt:', layout=Layout(height='100px', width='100%'), placeholder='Type your …"
      ]
     },
     "metadata": {},
     "output_type": "display_data"
    },
    {
     "data": {
      "application/vnd.jupyter.widget-view+json": {
       "model_id": "f0b0c398e3244842bac012fa7e954a97",
       "version_major": 2,
       "version_minor": 0
      },
      "text/plain": [
       "Button(description='Generate SQL', style=ButtonStyle())"
      ]
     },
     "metadata": {},
     "output_type": "display_data"
    },
    {
     "data": {
      "application/vnd.jupyter.widget-view+json": {
       "model_id": "40279ec910414ee9a9544b247274c59f",
       "version_major": 2,
       "version_minor": 0
      },
      "text/plain": [
       "Output()"
      ]
     },
     "metadata": {},
     "output_type": "display_data"
    }
   ],
   "source": [
    "import ipywidgets as widgets\n",
    "from IPython.display import display, Markdown\n",
    "\n",
    "# Use the same context defined earlier in the notebook\n",
    "context_user = context.copy()\n",
    "\n",
    "# Input widget\n",
    "input_box = widgets.Textarea(\n",
    "    value='',\n",
    "    placeholder='Type your question here...',\n",
    "    description='Prompt:',\n",
    "    layout=widgets.Layout(width='100%', height='100px')\n",
    ")\n",
    "\n",
    "# Button widget\n",
    "button = widgets.Button(description='Generate SQL')\n",
    "\n",
    "# Output area\n",
    "output = widgets.Output()\n",
    "\n",
    "# Callback function when button is clicked\n",
    "def on_button_click(b):\n",
    "    output.clear_output()\n",
    "    user_prompt = input_box.value.strip()\n",
    "    if user_prompt:\n",
    "        with output:\n",
    "            print(\"⏳ Generating SQL for your prompt...\")\n",
    "            try:\n",
    "                response = return_CCRMSQL(user_prompt, context_user)\n",
    "                display(Markdown(f\"### ✅ Generated SQL:\\n```\\n{response}\\n```\"))\n",
    "            except Exception as e:\n",
    "                print(f\"❌ Error: {e}\")\n",
    "    else:\n",
    "        with output:\n",
    "            print(\"⚠️ Please enter a prompt.\")\n",
    "\n",
    "button.on_click(on_button_click)\n",
    "\n",
    "# Display UI\n",
    "display(input_box, button, output)\n"
   ]
  },
  {
   "cell_type": "markdown",
   "id": "14768fb5",
   "metadata": {},
   "source": [
    "## Observations\n",
    "* The approach demonstrates the power of combining schema grounding, few-shot examples, and LLMs to translate real-world questions into valid SQL.\n",
    "* Version 3 offers the most user-friendly experience, especially for non-technical users.\n",
    "* Context accuracy and model temperature have strong impact on SQL quality.\n",
    "* Modular design using return_CCRMSQL makes the system extensible.\n",
    "\n",
    "* Conclusion: Adopt Version 3 as the primary interaction interface, and optionally retain Version 1 for validation/testing purposes. Continue iterating on context quality and example diversity for more robust SQL generation."
   ]
  }
 ],
 "metadata": {
  "colab": {
   "include_colab_link": true,
   "provenance": []
  },
  "kernelspec": {
   "display_name": "Python 3",
   "language": "python",
   "name": "python3"
  },
  "language_info": {
   "codemirror_mode": {
    "name": "ipython",
    "version": 3
   },
   "file_extension": ".py",
   "mimetype": "text/x-python",
   "name": "python",
   "nbconvert_exporter": "python",
   "pygments_lexer": "ipython3",
   "version": "3.13.3"
  }
 },
 "nbformat": 4,
 "nbformat_minor": 5
}
